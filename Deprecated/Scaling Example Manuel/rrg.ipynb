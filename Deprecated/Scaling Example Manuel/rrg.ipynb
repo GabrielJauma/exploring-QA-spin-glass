{
 "cells": [
  {
   "cell_type": "code",
   "execution_count": 1,
   "metadata": {},
   "outputs": [],
   "source": [
    "#Libraries\n",
    "% matplotlib inline\n",
    "import numpy as np\n",
    "from numpy import linalg as LA\n",
    "import math\n",
    "import matplotlib.pyplot as plt\n",
    "import locale\n",
    "import pylab\n",
    "import random\n",
    "from scipy.optimize import curve_fit\n",
    "from scipy.interpolate import interp1d\n",
    "import itertools\n",
    "from scipy.misc import derivative\n",
    "from scipy.interpolate import UnivariateSpline\n",
    "\n",
    "# import findiff\n",
    "# This is needed to use local settings to write point or comma as decimal separator in output files\n",
    "_locale_radix = locale.localeconv()['decimal_point']"
   ]
  },
  {
   "cell_type": "code",
   "execution_count": 2,
   "metadata": {},
   "outputs": [],
   "source": [
    "from matplotlib import rc\n",
    "\n",
    "rc('text', usetex=True)\n",
    "rc('text.latex', preamble=r'\\usepackage{amssymb}')"
   ]
  },
  {
   "cell_type": "markdown",
   "metadata": {},
   "source": [
    "Functions of general purpose:"
   ]
  },
  {
   "cell_type": "code",
   "execution_count": 3,
   "metadata": {},
   "outputs": [],
   "source": [
    "def read_first_last_N_lines_from_file(in_file, N, last=False):\n",
    "    with open(in_file) as myfile:\n",
    "        if last:\n",
    "            return [x.strip() for x in list(myfile)][-N:]\n",
    "        return [next(myfile).strip() for x in range(N)]"
   ]
  },
  {
   "cell_type": "code",
   "execution_count": 4,
   "metadata": {},
   "outputs": [],
   "source": [
    "\n",
    "def get_1d_range(s, w, n, wmin=0, wmax=100):\n",
    "    sr = np.array(s)\n",
    "    wr = np.array(w)\n",
    "    nr = np.zeros(wr.shape)\n",
    "    for ix, iy in np.ndindex(wr.shape):\n",
    "        nr[ix, iy] = n[ix]\n",
    "    s1p = sr.flatten()\n",
    "    w1p = wr.flatten()\n",
    "    n1p = nr.flatten()\n",
    "    indx = np.where(np.logical_and(w1p >= wmin, w1p <= wmax))\n",
    "    n1d = n1p[indx[:]]\n",
    "    s1d = s1p[indx[:]]\n",
    "    w1d = w1p[indx[:]]\n",
    "    return s1d, w1d, n1d\n"
   ]
  },
  {
   "cell_type": "markdown",
   "metadata": {},
   "source": [
    "# Interpolation subroutines"
   ]
  },
  {
   "cell_type": "markdown",
   "metadata": {},
   "source": [
    "We provide subroutines aimed to interpolate data points and to make operations with these interpolations."
   ]
  },
  {
   "cell_type": "code",
   "execution_count": 5,
   "metadata": {},
   "outputs": [],
   "source": [
    "def interpola(dat_x, dat_y, ndata=1, kind=\"cubic\", npoints=1000):\n",
    "    y = [interp1d(dat_x[i], dat_y[i], kind) for i in range(ndata)]\n",
    "    x = [np.linspace(dat_x[i][0], dat_x[i][-1], npoints) for i in range(ndata)]\n",
    "    return x, y\n",
    "\n",
    "\n"
   ]
  },
  {
   "cell_type": "markdown",
   "metadata": {},
   "source": [
    "This are subroutine to allow Pad'e analysis interpolations:"
   ]
  },
  {
   "cell_type": "code",
   "execution_count": null,
   "metadata": {},
   "outputs": [],
   "source": []
  },
  {
   "cell_type": "markdown",
   "metadata": {},
   "source": [
    "This is to find crossing between general functions instead between data."
   ]
  },
  {
   "cell_type": "code",
   "execution_count": 6,
   "metadata": {},
   "outputs": [],
   "source": [
    "def crossings_func(x, f, n, wmin=None, wmax=None):\n",
    "    #It does not work very well!\n",
    "    if wmin is None or wmax is None:\n",
    "        xr = x\n",
    "    else:\n",
    "        xr = np.linspace(wmin, wmax, 100)\n",
    "    y = [f[i](xr) for i in range(len(f))]\n",
    "    idx = [np.argwhere(np.diff(np.sign(y[i] - y[i - 1]))).flatten() for i in range(1, len(f))]\n",
    "    L_cross = np.array([np.log(np.sqrt(n[i - 1] * n[i])) for i in range(1, len(f))])\n",
    "    w_cr = np.array([xr[idx[i]] for i in range(0, len(f) - 1)]).ravel()\n",
    "    return L_cross, w_cr"
   ]
  },
  {
   "cell_type": "markdown",
   "metadata": {},
   "source": [
    "To find crossing between data instead of "
   ]
  },
  {
   "cell_type": "code",
   "execution_count": 7,
   "metadata": {},
   "outputs": [],
   "source": [
    "def crossings(xlist, ylist, n, wmin=None, wmax=None):\n",
    "    #It does not work very well!\n",
    "    x, f = interpola(xlist, ylist, ndata=len(xlist), kind=\"cubic\")\n",
    "    if wmin is None or wmax is None:\n",
    "        xr = x\n",
    "    else:\n",
    "        xr = np.linspace(wmin, wmax, 100)\n",
    "    y = [f[i](xr) for i in range(len(f))]\n",
    "    idx = [np.argwhere(np.diff(np.sign(y[i] - y[i - 1]))).flatten() for i in range(1, len(f))]\n",
    "    L_cross = np.array([np.log(np.sqrt(n[i - 1] * n[i])) for i in range(1, len(f))])\n",
    "    #     print(idx, x)\n",
    "    w_cr = np.array([xr[idx[i]] for i in range(0, len(f) - 1)]).ravel()\n",
    "    #     print(w_cr)\n",
    "    #     w_cr_av = [sum(w_cr[i][j] for j in range(w_cr[i].shape[0])/w_cr[i].shape[0])]\n",
    "    #     w_cr = x[idx[:]]\n",
    "    return L_cross, w_cr"
   ]
  },
  {
   "cell_type": "markdown",
   "metadata": {},
   "source": [
    "# Fittings"
   ]
  },
  {
   "cell_type": "markdown",
   "metadata": {},
   "source": [
    "First we define functions:"
   ]
  },
  {
   "cell_type": "code",
   "execution_count": 8,
   "metadata": {},
   "outputs": [],
   "source": [
    "def func_p(x, a, eta, y):\n",
    "    return (a + eta * x ** y)\n",
    "\n",
    "\n",
    "def func_exp(x, a, eta, y):\n",
    "    return (a + eta * np.exp(-np.abs(y) * (1 / x)))\n",
    "\n",
    "\n",
    "def func_s(x, a0, a1, a2, a3):\n",
    "    a = [a0, a1, a2, a3]\n",
    "    r = (a[0] + a[1] * x) * (1 + a[2] * np.sqrt(x) + a[3] * x)\n",
    "    return r\n",
    "\n",
    "\n",
    "def func_line(x, a0, a1):\n",
    "    a = [a0, a1]\n",
    "    r = a[0] + a[1] * x\n",
    "    return r"
   ]
  },
  {
   "cell_type": "markdown",
   "metadata": {},
   "source": [
    "The following are subroutines devoted to perforfs different types of fittings. "
   ]
  },
  {
   "cell_type": "code",
   "execution_count": 9,
   "metadata": {},
   "outputs": [],
   "source": [
    "# This is to compute polynomial fittings and give the errors (sigmas).\n",
    "# Please note that numpy.polyfits requires inverse of sigmas!\n",
    "def polynomial_fit_witherrors(x, y, nor=2, y_err=False):\n",
    "    if y_err is False:\n",
    "        z, pcov = np.polyfit(x, y, nor, cov=True)\n",
    "    else:\n",
    "        print(\"y_err should contain sigmas, not 1/sigmas\")\n",
    "        z, pcov = np.polyfit(x, y, nor, cov=True, w=1 / y_err)\n",
    "    #     print(z)\n",
    "    perr = np.sqrt(np.diag(pcov))\n",
    "    p = np.poly1d(z)\n",
    "    return p, perr"
   ]
  },
  {
   "cell_type": "code",
   "execution_count": 10,
   "metadata": {},
   "outputs": [],
   "source": [
    "# This is another subroutine to compute the lineal fittings but with a full control over everything.\n",
    "def fitea_polynomy(x, y, y_err=False):\n",
    "    igu = [-1, 10]\n",
    "    if y_err is False:\n",
    "        popt, pcov = curve_fit(func_line, x, y, igu)\n",
    "    else:\n",
    "        popt, pcov = curve_fit(func_line, x, y, igu, sigma=y_err, maxfev=10000, absolute_sigma=True)\n",
    "    perr = np.sqrt(np.diag(pcov))\n",
    "    r = y - func_line(x, *popt)\n",
    "    res = r / y_err\n",
    "    chisq = sum((res) ** 2)\n",
    "    #     print(\"chisq test gives\",chisq/(y.shape[0]-2))\n",
    "    #     print(round(T,2))\n",
    "    return popt, perr, chisq / (np.array(y).shape[0] - 2), res"
   ]
  },
  {
   "cell_type": "code",
   "execution_count": 11,
   "metadata": {},
   "outputs": [],
   "source": [
    "def fitea_power(x, y, y_err=False, a_i=1, eta_i=1, exp_i=2, law=\"power\"):\n",
    "    a = a_i\n",
    "    eta = eta_i\n",
    "    exp = exp_i\n",
    "    igu = [a, eta, exp]\n",
    "    if law is \"power\":\n",
    "        if y_err is False:\n",
    "            popt, pcov = curve_fit(func_p, x, y, igu, maxfev=100000)\n",
    "        else:\n",
    "            popt, pcov = curve_fit(func_p, x, y, igu, sigma=y_err, maxfev=100000)\n",
    "    if law is \"exp\":\n",
    "        if y_err is False:\n",
    "            popt, pcov = curve_fit(func_exp, x, y, igu, maxfev=100000)\n",
    "        else:\n",
    "            popt, pcov = curve_fit(func_exp, x, y, igu, sigma=y_err, maxfev=100000)\n",
    "    perr = np.sqrt(np.diag(pcov))\n",
    "    r = y - func_p(x, *popt)\n",
    "    res = r / y_err\n",
    "    chisq = sum((res) ** 2)\n",
    "    print(\"chisq test gives\", chisq / (y.shape[0] - 2))\n",
    "    #     print(round(T,2))\n",
    "    return popt, perr, chisq / (y.shape[0] - 2), res\n",
    "\n",
    "\n",
    "def fitea_power_s(x, y, y_err=False):\n",
    "    igu = [0.5, 0.2, 0.5, 0.1]\n",
    "    if y_err is False:\n",
    "        popt, pcov = curve_fit(func_s, x, y, igu)\n",
    "    else:\n",
    "        popt, pcov = curve_fit(func_s, x, y, igu, sigma=y_err, maxfev=1000000)\n",
    "    perr = np.sqrt(np.diag(pcov))\n",
    "    r = y - func_s(x, *popt)\n",
    "    res = r / y_err\n",
    "    chisq = sum((res) ** 2)\n",
    "    print(\"chisq test gives\", chisq / (y.shape[0] - 2))\n",
    "    #     print(round(T,2))\n",
    "    return popt, perr, chisq / (y.shape[0] - 2), res"
   ]
  },
  {
   "cell_type": "code",
   "execution_count": null,
   "metadata": {},
   "outputs": [],
   "source": []
  },
  {
   "cell_type": "markdown",
   "metadata": {},
   "source": [
    "# Scaling hypothesis"
   ]
  },
  {
   "cell_type": "markdown",
   "metadata": {},
   "source": [
    "This are subroutine to perform a finite size scaling."
   ]
  },
  {
   "cell_type": "code",
   "execution_count": 12,
   "metadata": {},
   "outputs": [],
   "source": [
    "def data_fss(x1, x2, y, yerr, x1min, x1max):\n",
    "    # We compute new arrays where x1 is restricted to the desired interval     \n",
    "    indx = [np.where(np.logical_and(x1[i] >= x1min, x1[i] <= x1max)) for i in range(len(x1))]\n",
    "    x1_n = [x1[i][indx[i]] for i in range(len(x1))]\n",
    "    y_n = [y[i][indx[i]] for i in range(len(y))]\n",
    "    yerr_n = [yerr[i][indx[i]] for i in range(len(y))]\n",
    "    # Now, we construct three 1d arrays p1, p2 and q. The array q contains the quantity over which \n",
    "    # finite size analysis is performer. The p1 and p2 contains the values of parameter and size for\n",
    "    # each of the entries of q\n",
    "    x = np.concatenate(x1_n).ravel()\n",
    "    y = np.concatenate([x2[i] * np.ones(len(x1_n[i])) for i in range(len(x1_n))]).ravel()\n",
    "    f = np.concatenate(y_n).ravel()\n",
    "    ferr = np.concatenate(yerr_n).ravel()\n",
    "    return x, y, f, ferr\n",
    "\n"
   ]
  },
  {
   "cell_type": "code",
   "execution_count": 13,
   "metadata": {},
   "outputs": [],
   "source": [
    "class fitea_order_and:\n",
    "    #\n",
    "    # \n",
    "    def __init__(self, nrho, ns, nb):\n",
    "        self.nrho = nrho\n",
    "        self.ns = ns\n",
    "        self.nb = nb\n",
    "        self.nt = ns + nrho + nb\n",
    "        if ns < 2:\n",
    "            print(\"WARNING: the minimum ns should be 2 to include scaling variable!\")\n",
    "\n",
    "    def func2(self, x, *para):\n",
    "        a = para[0:self.ns]\n",
    "        d = para[self.ns:self.ns + self.nrho]\n",
    "        b = para[self.ns + self.nrho: self.ns + self.nrho + self.nb]\n",
    "        nu = para[self.ns + self.nrho + self.nb]\n",
    "        wc = para[self.ns + self.nrho + self.nb + 1]\n",
    "        #         print(a,d,nu,wc)\n",
    "        rho = (x[0] - wc) + sum(d[i] * (x[0] - wc) ** (i + 2) for i in range(self.nrho))\n",
    "        xs = rho * x[1] ** (1 / nu)\n",
    "        beta = sum(b[i] * (x[0] - wc) ** (i) for i in range(self.nb))\n",
    "\n",
    "        if self.nb == 0:\n",
    "            f = sum(a[i] * xs ** i for i in range(self.ns))\n",
    "        elif self.nb > 0:\n",
    "            y = para[-1]\n",
    "            f = sum(a[i] * xs ** i for i in range(self.ns)) * (1 + beta * x[1] ** (-np.abs(y)))\n",
    "        return f\n",
    "\n",
    "    def fitea_p(self, x_opt, y_opt, y_err, w_i=17.5, nu_i=1, y_i=-0.5, verbose=True):\n",
    "        #        igu = [1] * (self.nrho+self.ns+self.nb+ self.nir)\n",
    "        igu = [np.random.rand() / 10 ** i for i in range((self.nrho + self.ns + self.nb))]\n",
    "        #         print(igu)\n",
    "        igu.extend([nu_i, w_i])\n",
    "        if self.nb > 0:\n",
    "            igu.append(y_i)\n",
    "        popt, pcov = curve_fit(self.func2, x_opt, y_opt, igu, sigma=y_err, absolute_sigma=\"False\", maxfev=1000000)\n",
    "        perr = np.sqrt(np.diag(pcov))\n",
    "        r = y_opt - self.func2(x_opt, *popt)\n",
    "        res = r / y_err\n",
    "        chisq = sum((res) ** 2) / (y_err.shape[0] - len(igu))\n",
    "        print(\"numero de puntos\", y_err.shape[0])\n",
    "        #print(y_err**2)\n",
    "        if verbose:\n",
    "            for i in range(len(igu)):\n",
    "                print(popt[i], \"+-\", perr[i])\n",
    "            print(\"chisq/df\", chisq)\n",
    "        return popt, perr, chisq, res\n",
    "\n",
    "    def give_c(self, x, *para):\n",
    "        a = para[0:self.ns]\n",
    "        d = para[self.ns:self.ns + self.nrho]\n",
    "        b = para[self.ns + self.nrho: self.ns + self.nrho + self.nb]\n",
    "        nu = para[self.ns + self.nrho + self.nb]\n",
    "        wc = para[self.ns + self.nrho + self.nb + 1]\n",
    "        #         print(a,d,nu,wc)\n",
    "        rho = (x[0] - wc) + sum(d[i] * (x[0] - wc) ** (i + 2) for i in range(self.nrho))\n",
    "        xs = rho * x[1] ** (1 / nu)\n",
    "        beta = sum(b[i] * (x[0] - wc) ** (i) for i in range(self.nb))\n",
    "        if self.nb == 0:\n",
    "            f = 0\n",
    "        elif self.nb > 0:\n",
    "            y = para[-1]\n",
    "            f = sum(a[i] * xs ** i for i in range(self.ns)) * (beta * x[1] ** (-np.abs(y)))\n",
    "        return f, nu, wc\n",
    "\n",
    "    def sc_function(self, *para):\n",
    "        if self.nrho > 0:\n",
    "            print(\"WARNING: the scaling function also dependes on W-W_c!\")\n",
    "        a = para[0:self.ns]\n",
    "        #         print(a,d,nu,wc)\n",
    "        f = lambda x: sum(a[i] * x ** i for i in range(self.ns))\n",
    "        return f\n",
    "\n",
    "    def give_scalingv(self, x, *para):\n",
    "        a = para[0:self.ns]\n",
    "        d = para[self.ns:self.ns + self.nrho]\n",
    "        b = para[self.ns + self.nrho: self.ns + self.nrho + self.nb]\n",
    "        nu = para[self.ns + self.nrho + self.nb]\n",
    "        wc = para[self.ns + self.nrho + self.nb + 1]\n",
    "        #         print(a,d,nu,wc)\n",
    "        rho = (x - wc) + sum(d[i] * (x - wc) ** (i + 2) for i in range(self.nrho))\n",
    "        return rho\n",
    "\n",
    "\n",
    "def separa(x, s, y, y_e):\n",
    "    xp = []\n",
    "    sp = []\n",
    "    yp = []\n",
    "    yp_e = []\n",
    "    nc = 0\n",
    "    for i in range(len(x) - 1):\n",
    "        if x[i] > x[i + 1]:\n",
    "            xp.append(x[nc:i + 1])\n",
    "            yp.append(y[nc:i + 1])\n",
    "            yp_e.append(y_e[nc:i + 1])\n",
    "            sp.append(s[nc:i + 1])\n",
    "            nc = i + 1\n",
    "    xp.append(x[nc:])\n",
    "    yp.append(y[nc:])\n",
    "    sp.append(s[nc:])\n",
    "    yp_e.append(y_e[nc:])\n",
    "    return xp, sp, yp, yp_e\n",
    "\n"
   ]
  },
  {
   "cell_type": "markdown",
   "metadata": {},
   "source": [
    "Definitions of the colours throug all the computations"
   ]
  },
  {
   "cell_type": "code",
   "execution_count": 15,
   "metadata": {},
   "outputs": [],
   "source": [
    "color = ['turquoise', 'tab:olive', 'tab:green', 'tab:red', 'tab:purple', 'tab:brown', 'tab:pink', 'tab:gray',\n",
    "         'tab:blue', 'goldenrod', 'tab:orange', 'tab:red']"
   ]
  },
  {
   "cell_type": "markdown",
   "metadata": {},
   "source": [
    "# Random-Regular Graph with $k=2$."
   ]
  },
  {
   "cell_type": "markdown",
   "metadata": {},
   "source": [
    "We analyze the data for Random-regular graph which should be contained in the file where this notebook is. Take care with different set of data. The data for D1, D2 or D\\infty may not contain the same information in all files. One could check each of the data with the .py file which has been computed for more info.\n",
    "\n",
    "Te structure of this notebook is the following. For each plot, we always read the data and perform analysis. We try to diverde all the following code in plots. The index is the following:\n",
    "\n",
    "- Participation ratio $S$\n",
    "\n",
    "    - Correlated volume\n",
    "    - Figure 1: $S$ and its derivative\n",
    "    - Scaling of $S$\n",
    "    - Maxima and its location for $D_1$\n",
    "\n",
    "- Second momenta $I_2$ and $I_\\infty$\n",
    "\n",
    "    - Scaling of $I_2$\n",
    "    \n",
    "- Maxima of $S$ and $I_2$\n",
    "\n",
    "    - Extraploation of the maxima"
   ]
  },
  {
   "cell_type": "markdown",
   "metadata": {},
   "source": [
    "# Derivative of entropy "
   ]
  },
  {
   "cell_type": "code",
   "execution_count": 16,
   "metadata": {},
   "outputs": [],
   "source": [
    "n = [124, 250, 500, 1000, 2000, 4000, 8000, 16000, 32000, 64000, 128000]\n",
    "npr = len(n)\n",
    "d = 3\n",
    "# npoints = 20\n",
    "fn = 'rrg_d3'\n",
    "files = ['./av_n' + str(n[i]) + fn + '.dat' for i in range(npr)]\n",
    "\n",
    "xfiles = [read_first_last_N_lines_from_file(files[i], 200, last=True) for i in range(npr)]\n",
    "\n",
    "xdat = [np.loadtxt(xfiles[i][:]) for i in range(npr)]\n",
    "w = [xdat[i][:, 0] for i in range(npr)]\n",
    "\n"
   ]
  },
  {
   "cell_type": "code",
   "execution_count": 17,
   "metadata": {},
   "outputs": [],
   "source": [
    "sdln = np.array([xdat[i][:, 3] / (np.log(n[i])) ** 1. for i in range(npr)])\n",
    "sdln_error = np.array([xdat[i][:, 4] / np.log(n[i]) ** 1 for i in range(npr)])"
   ]
  },
  {
   "cell_type": "code",
   "execution_count": 18,
   "metadata": {},
   "outputs": [],
   "source": [
    "wdiff = [(w[i][2:] - w[i][0:-2]) for i in range(npr)]\n",
    "\n",
    "ds = [(sdln[i][2:] - sdln[i][:-2]) / wdiff[i] for i in range(npr)]\n",
    "ds_error = [(sdln_error[i][2:] + sdln_error[i][0:-2]) / wdiff[i] for i in range(npr)]\n",
    "w_ds = [(w[i][2:] + w[i][0:-2]) / 2 for i in range(npr)]\n",
    "xds_int, ds_int = interpola(w_ds, ds, ndata=npr, kind=\"quadratic\")"
   ]
  },
  {
   "cell_type": "code",
   "execution_count": 19,
   "metadata": {},
   "outputs": [
    {
     "data": {
      "text/plain": [
       "<matplotlib.legend.Legend at 0x7f9d299a8d50>"
      ]
     },
     "execution_count": 19,
     "metadata": {},
     "output_type": "execute_result"
    },
    {
     "data": {
      "image/png": "[encoded data removed]",
      "text/plain": [
       "<Figure size 432x288 with 1 Axes>"
      ]
     },
     "metadata": {
      "needs_background": "light"
     },
     "output_type": "display_data"
    }
   ],
   "source": [
    "fig, ax1 = plt.subplots()\n",
    "for i in range(npr):\n",
    "    ax1.errorbar(w_ds[i], ds[i], yerr=ds_error[i], fmt='.', label=\"N=\" + str(n[i]), color=color[i])\n",
    "    ax1.plot(xds_int[i], ds_int[i](xds_int[i]), linewidth=0.5, color=color[i], zorder=i)\n",
    "ax1.axvspan(18.1, 18.3, alpha=0.5, color='tab:olive')\n",
    "# ax2.set_xlabel(\"$W$\", fontsize=30)\n",
    "# ax2.set_ylabel(\"$s'$\", fontsize=30)\n",
    "ax1.set_xlim(16, 21)\n",
    "ax1.set_ylim(0.01, 0.035)\n",
    "ax1.legend(ncol=2, loc=\"upper right\", fontsize=10)\n",
    "\n",
    "#ax1.axvspan(0, 10, facecolor='green', alpha=0.5)\n",
    "#plt.savefig(\"D1_combined.pdf\", bbox_inches='tight')"
   ]
  },
  {
   "cell_type": "markdown",
   "metadata": {},
   "source": [
    "# Esxtrapolation of crossing"
   ]
  },
  {
   "cell_type": "code",
   "execution_count": 35,
   "metadata": {},
   "outputs": [],
   "source": [
    "n = [124, 250, 500, 1000, 2000, 4000, 8000, 16000, 32000, 64000]\n",
    "npr = len(n)\n",
    "d = 3\n",
    "# npoints = 20\n",
    "fn = 'rrg_d3'\n",
    "files = ['./av_n' + str(n[i]) + fn + '.dat' for i in range(npr)]\n",
    "\n",
    "# f = [ open(fdat) for fdat in files]\n",
    "\n",
    "xfiles = [read_first_last_N_lines_from_file(files[i], 200, last=True) for i in range(npr)]\n",
    "xdat = [np.loadtxt(xfiles[i][:]) for i in range(npr)]\n",
    "w = [xdat[i][:, 0] for i in range(npr)]\n",
    "\n",
    "sdln = np.array([xdat[i][:, 3] / (np.log(n[i])) ** 1. for i in range(npr)])\n",
    "sdln_error = np.array([xdat[i][:, 4] / np.log(n[i]) ** 1 for i in range(npr)])\n",
    "\n",
    "wdiff = [(w[i][2:] - w[i][0:-2]) for i in range(npr)]\n",
    "\n",
    "ds = [(sdln[i][2:] - sdln[i][:-2]) / wdiff[i] for i in range(npr)]\n",
    "ds_error = [(sdln_error[i][2:] + sdln_error[i][0:-2]) / wdiff[i] for i in range(npr)]\n",
    "w_ds = [(w[i][2:] + w[i][0:-2]) / 2 for i in range(npr)]\n",
    "xds_int, ds_int = interpola(w_ds, ds, ndata=npr, kind=\"quadratic\")"
   ]
  },
  {
   "cell_type": "code",
   "execution_count": 36,
   "metadata": {},
   "outputs": [
    {
     "name": "stdout",
     "output_type": "stream",
     "text": [
      "5.170871241733642 18.88888888888889\n",
      "5.868034508142219 18.434343434343432\n",
      "6.561181688702164 18.535353535353536\n",
      "7.2543288692621095 18.18181818181818\n",
      "7.947476049822055 17.929292929292927\n",
      "8.640623230382001 18.434343434343432\n",
      "9.333770410941945 17.626262626262626\n",
      "10.02691759150189 18.333333333333332\n",
      "10.720064772061836 18.249158249158246\n"
     ]
    },
    {
     "name": "stderr",
     "output_type": "stream",
     "text": [
      "/home/pino/anaconda3/lib/python3.7/site-packages/ipykernel_launcher.py:12: VisibleDeprecationWarning: Creating an ndarray from ragged nested sequences (which is a list-or-tuple of lists-or-tuples-or ndarrays with different lengths or shapes) is deprecated. If you meant to do this, you must specify 'dtype=object' when creating the ndarray\n",
      "  if sys.path[0] == '':\n"
     ]
    }
   ],
   "source": [
    "L_cr, w_cr = crossings(w_ds[:], ds[:], n[:], wmin=15, wmax=20.0)\n",
    "w_cr = [sum(w_cr[i]) / w_cr[i].shape[0] for i in range(len(w_cr))]\n",
    "for i in range(len(L_cr)):\n",
    "    print(L_cr[i], w_cr[i])\n",
    "#p = polynomial_fit(1/L_cr,  w_cr, 2)\n",
    "#print(w_cr_av)"
   ]
  },
  {
   "cell_type": "code",
   "execution_count": 37,
   "metadata": {},
   "outputs": [
    {
     "name": "stdout",
     "output_type": "stream",
     "text": [
      "6.214608098422191 18.434343434343432\n",
      "7.600902459542082 18.03030303030303\n",
      "8.987196820661973 17.77777777777778\n",
      "10.373491181781864 18.232323232323232\n",
      "5.517444832013615 18.484848484848484\n",
      "6.907755278982137 18.282828282828284\n",
      "8.294049640102028 18.18181818181818\n",
      "9.680344001221918 18.08080808080808\n"
     ]
    }
   ],
   "source": [
    "L_cr_e, w_cr_e = crossings(w_ds[0::2], ds[0::2], n[0::2], wmin=15, wmax=20.0)\n",
    "L_cr_o, w_cr_o = crossings(w_ds[1::2], ds[1::2], n[1::2], wmin=15, wmax=20.0)\n",
    "L_cr = np.concatenate([L_cr_o, L_cr_e])\n",
    "w_cr = np.concatenate([w_cr_o, w_cr_e])\n",
    "#w_cr = [ sum(w_cr[i])/w_cr[i].shape[0]  for i in range(len(w_cr))]\n",
    "for i in range(len(L_cr)):\n",
    "    print(L_cr[i], w_cr[i])\n",
    "#p = polynomial_fit(1/L_cr,  w_cr, 2)\n",
    "#print(w_cr_av)"
   ]
  },
  {
   "cell_type": "code",
   "execution_count": 38,
   "metadata": {},
   "outputs": [
    {
     "name": "stdout",
     "output_type": "stream",
     "text": [
      "chisq test gives 8.374799140795146e-05\n",
      "17.994935197884455 505.0323852439602 4.004991698617979\n",
      "[2.59652673e-01 4.48034789e+03 5.35767212e+00]\n"
     ]
    }
   ],
   "source": [
    "#yc1 = np.array([ds_int[i](w_cr[i]) for i in range(npr-1)])\n",
    "\n",
    "#yc1 = np.array([ds_int[i](w_cr[i]) for i in range(npr-1)])\n",
    "nf = -0\n",
    "popt, perr, rc, res = fitea_power(1 / np.array(L_cr[:]), np.array(w_cr[:]), np.array(w_cr[:]),\n",
    "                                  a_i=15, eta_i=10, exp_i=0.1, law=\"power\")\n",
    "\n",
    "a = popt[0]\n",
    "b = popt[1]\n",
    "exp = popt[2]\n",
    "print(a, b, exp)\n",
    "print(perr)\n",
    "\n",
    "xd_shift = np.linspace(0.0, 1 / L_cr[0] + 0.1, 100)\n",
    "y_p_shift = func_p(xd_shift, a, b, exp)\n",
    "\n"
   ]
  },
  {
   "cell_type": "code",
   "execution_count": 39,
   "metadata": {},
   "outputs": [
    {
     "name": "stdout",
     "output_type": "stream",
     "text": [
      "chisq test gives 0.14009889334639405\n",
      "18.024211395708708 25.448278290677166 0.707742988585663\n",
      "[  0.17003244 108.03822479   0.78781398]\n"
     ]
    },
    {
     "name": "stderr",
     "output_type": "stream",
     "text": [
      "/home/pino/anaconda3/lib/python3.7/site-packages/ipykernel_launcher.py:5: RuntimeWarning: divide by zero encountered in true_divide\n",
      "  \"\"\"\n"
     ]
    }
   ],
   "source": [
    "nf = -0\n",
    "popt, perr, rc, res = fitea_power(1 / np.array(L_cr[:]), np.array(w_cr[:]), np.array(w_cr[:]),\n",
    "                                  a_i=18, eta_i=1, exp_i=0.001, law=\"exp\")\n",
    "\n",
    "a = popt[0]\n",
    "b = popt[1]\n",
    "exp = popt[2]\n",
    "print(a, b, exp)\n",
    "print(perr)\n",
    "\n",
    "xd_shift_exp = np.linspace(0.0001, 1 / L_cr[0] + 0.1, 100)\n",
    "y_p_shift_exp = func_exp(xd_shift, a, b, exp)\n",
    "\n"
   ]
  },
  {
   "cell_type": "code",
   "execution_count": 40,
   "metadata": {},
   "outputs": [
    {
     "data": {
      "text/plain": [
       "<matplotlib.legend.Legend at 0x7f9d2914f710>"
      ]
     },
     "execution_count": 40,
     "metadata": {},
     "output_type": "execute_result"
    },
    {
     "data": {
      "image/png": "[encoded data removed]",
      "text/plain": [
       "<Figure size 432x288 with 1 Axes>"
      ]
     },
     "metadata": {
      "needs_background": "light"
     },
     "output_type": "display_data"
    }
   ],
   "source": [
    "fig, ax1 = plt.subplots()\n",
    "\n",
    "plt.plot(1 / L_cr, w_cr, \"o\")\n",
    "plt.plot(xd_shift, y_p_shift, label=\"power\")\n",
    "plt.plot(xd_shift_exp, y_p_shift_exp, label=\"exp\")\n",
    "#fig.suptitle(\"Shift of critical point for different sizes\", fontsize=28)      \n",
    "ax1.set_xlabel(\"$1/\\\\log(\\\\sqrt{N_i N_{i+1}})$\", fontsize=20)\n",
    "ax1.set_ylabel(\"$W_{\\\\rm cr}$\", fontsize=20)\n",
    "ax1.set_xlim(0.0, 0.25)\n",
    "ax1.set_ylim(17.5, 22.5)\n",
    "plt.savefig(\"shiftsp.pdf\")\n",
    "ax1.legend()"
   ]
  },
  {
   "cell_type": "markdown",
   "metadata": {},
   "source": [
    "# Scaling"
   ]
  },
  {
   "cell_type": "code",
   "execution_count": 34,
   "metadata": {},
   "outputs": [
    {
     "name": "stdout",
     "output_type": "stream",
     "text": [
      "numero de puntos 99\n",
      "0.018426748161847945 +- 5.586642511236506e-05\n",
      "-0.0003803293567946857 +- 8.392642142226195e-06\n",
      "6.053051620620045e-06 +- 3.0607805029854313e-07\n",
      "-7.086741029162211e-08 +- 8.498294415362692e-09\n",
      "0.9302157926647057 +- 0.01090745582160402\n",
      "18.218846702125532 +- 0.016913584752899523\n",
      "chisq/df 1.770650163333137\n",
      "[ 1.84267482e-02 -3.80329357e-04  6.05305162e-06 -7.08674103e-08\n",
      "  9.30215793e-01  1.82188467e+01]\n"
     ]
    }
   ],
   "source": [
    "nsc = 1\n",
    "nf = 20\n",
    "x1, x2, y, yerr = data_fss(w_ds[nsc:nf], np.log(n[nsc:nf]), ds[nsc:nf], ds_error[nsc:nf], 15.0, 22)\n",
    "#x1, x2, y, yerr = data_fss(w_p[2::],np.log(n[2::]),ds_p[2::], ds_error_p[2::],14,21)\n",
    "x_opt = [x1, x2]\n",
    "y_opt = y\n",
    "y_opt_err = yerr\n",
    "# \n",
    "fitting = fitea_order_and(0, 4, 0)\n",
    "\n",
    "para, error, chisq, res = fitting.fitea_p(x_opt, y_opt, y_opt_err, w_i=18.15, nu_i=1.2, y_i=2)\n",
    "print(para)"
   ]
  },
  {
   "cell_type": "code",
   "execution_count": 32,
   "metadata": {
    "scrolled": true
   },
   "outputs": [
    {
     "name": "stdout",
     "output_type": "stream",
     "text": [
      "0.01842674826119692 -0.0003803293594884449 6.053051963109932e-06 -7.086742032607062e-08 0.9302157946179185 18.218846662009977\n",
      "-32.05192861138954 25.06620489843908\n"
     ]
    },
    {
     "data": {
      "image/png": "[encoded data removed]",
      "text/plain": [
       "<Figure size 432x288 with 1 Axes>"
      ]
     },
     "metadata": {
      "needs_background": "light"
     },
     "output_type": "display_data"
    }
   ],
   "source": [
    "\n",
    "#fitting = fitea_order_alb(0,3,1,0)\n",
    "\n",
    "print(*para)\n",
    "#xsp = np.linspace(-20,20,100)\n",
    "ydel, nu, wc = fitting.give_c(x_opt, *para)\n",
    "nu = 1\n",
    "# print(nu,wc)\n",
    "# print(ydel)\n",
    "f_sc = fitting.sc_function(*para)\n",
    "yco = y_opt - ydel\n",
    "\n",
    "xpinta, lpinta, ypinta, ypinta_e = separa(x_opt[0], x_opt[1], yco, y_opt_err)\n",
    "\n",
    "#-----------------------------------------------------\n",
    "\n",
    "xmin = (xpinta[-1][0] - wc) * lpinta[-1][0] ** (1 / nu)\n",
    "xmax = (xpinta[-1][-1] - wc) * lpinta[-1][-1] ** (1 / nu)\n",
    "xd = np.linspace(xmin, xmax, 1000)\n",
    "\n",
    "print(xmin, xmax)\n",
    "fig, ax1 = plt.subplots()\n",
    "for i in range(0, len(xpinta)):\n",
    "    plt.errorbar(np.abs(xpinta[i] - wc) * lpinta[i] ** (1 / nu), ypinta[i], yerr=ypinta_e[i], fmt=\"o\",\n",
    "                 label=\"N=\" + str(n[nsc + i]), color=color[nsc + i])\n",
    "plt.plot(np.abs(xd), f_sc(xd), linewidth=1.5, color=\"black\", zorder=100)\n",
    "#ax1.set_xlim(15,23.5)\n",
    "#ax1.set_ylim(2.,3.)   \n",
    "ax1.legend(ncol=2, fontsize=8)\n",
    "ax1.set_xlabel(\"$[\\log(N)]^{1/\\\\nu}|W-W_c|$\", fontsize=21)\n",
    "ax1.set_ylabel(\"$|D_1^{\\prime}|$\", fontsize=21)\n",
    "plt.savefig(\"scaling.png\")\n",
    "\n",
    "handles, labels = ax1.get_legend_handles_labels()\n",
    "# remove the errorbars\n",
    "handles = [h[0] for h in handles]\n",
    "plt.savefig(\"scaling.pdf\", bbox_inches='tight')\n",
    "# use them in the legend\n",
    "\n",
    "# --------------------------------------------------------\n"
   ]
  },
  {
   "cell_type": "code",
   "execution_count": null,
   "metadata": {},
   "outputs": [],
   "source": []
  },
  {
   "cell_type": "code",
   "execution_count": null,
   "metadata": {},
   "outputs": [],
   "source": []
  }
 ],
 "metadata": {
  "anaconda-cloud": {},
  "kernelspec": {
   "display_name": "Python 3",
   "language": "python",
   "name": "python3"
  },
  "language_info": {
   "codemirror_mode": {
    "name": "ipython",
    "version": 3
   },
   "file_extension": ".py",
   "mimetype": "text/x-python",
   "name": "python",
   "nbconvert_exporter": "python",
   "pygments_lexer": "ipython3",
   "version": "3.7.10"
  }
 },
 "nbformat": 4,
 "nbformat_minor": 2
}